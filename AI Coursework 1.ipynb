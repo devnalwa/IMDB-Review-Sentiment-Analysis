{
 "cells": [
  {
   "cell_type": "markdown",
   "metadata": {},
   "source": [
    "# Binary Classification: IMDB Dataset \n",
    "    \n",
    "    "
   ]
  },
  {
   "cell_type": "markdown",
   "metadata": {},
   "source": [
    "## Introduction:\n",
    "   - The purpose of this report is to explore and solve the binary classification problem using the IMDB dataset. In order to do that, we have to create a deep learning model that classifies if a movie review (from the dataset) is positive or negative (good or bad) on the basis of the the text content of the movie reviews. The dataset has 50,000 reviews and these reviews will be split into two where half the reviews is to train the model and the other is to test the model. This is essential as a machine learning model should not be tested on the same data it was trained with as that is not a good indicator of whether the model is working well or not as it needs to work well for data it has not seen before otherwise we do not know for certain if the model is working properly. \n",
    "    \n",
    "    "
   ]
  },
  {
   "cell_type": "code",
   "execution_count": 98,
   "metadata": {},
   "outputs": [],
   "source": [
    "from keras.datasets import imdb\n",
    "\n",
    "(train_data, train_labels), (test_data, test_labels) = imdb.load_data(num_words=10000)"
   ]
  },
  {
   "cell_type": "markdown",
   "metadata": {},
   "source": [
    "- Above, the data set has been loaded. The num_words has also been set to 10,000 which goes to say that in the training data, only the top 10,000 words that are most used will be kept. This is done so that the words that do not show up often and are considered rare are eliminated which lets us work with vector data which is of good and manageable size."
   ]
  },
  {
   "cell_type": "code",
   "execution_count": 99,
   "metadata": {},
   "outputs": [
    {
     "data": {
      "text/plain": [
       "[1,\n",
       " 14,\n",
       " 22,\n",
       " 16,\n",
       " 43,\n",
       " 530,\n",
       " 973,\n",
       " 1622,\n",
       " 1385,\n",
       " 65,\n",
       " 458,\n",
       " 4468,\n",
       " 66,\n",
       " 3941,\n",
       " 4,\n",
       " 173,\n",
       " 36,\n",
       " 256,\n",
       " 5,\n",
       " 25,\n",
       " 100,\n",
       " 43,\n",
       " 838,\n",
       " 112,\n",
       " 50,\n",
       " 670,\n",
       " 2,\n",
       " 9,\n",
       " 35,\n",
       " 480,\n",
       " 284,\n",
       " 5,\n",
       " 150,\n",
       " 4,\n",
       " 172,\n",
       " 112,\n",
       " 167,\n",
       " 2,\n",
       " 336,\n",
       " 385,\n",
       " 39,\n",
       " 4,\n",
       " 172,\n",
       " 4536,\n",
       " 1111,\n",
       " 17,\n",
       " 546,\n",
       " 38,\n",
       " 13,\n",
       " 447,\n",
       " 4,\n",
       " 192,\n",
       " 50,\n",
       " 16,\n",
       " 6,\n",
       " 147,\n",
       " 2025,\n",
       " 19,\n",
       " 14,\n",
       " 22,\n",
       " 4,\n",
       " 1920,\n",
       " 4613,\n",
       " 469,\n",
       " 4,\n",
       " 22,\n",
       " 71,\n",
       " 87,\n",
       " 12,\n",
       " 16,\n",
       " 43,\n",
       " 530,\n",
       " 38,\n",
       " 76,\n",
       " 15,\n",
       " 13,\n",
       " 1247,\n",
       " 4,\n",
       " 22,\n",
       " 17,\n",
       " 515,\n",
       " 17,\n",
       " 12,\n",
       " 16,\n",
       " 626,\n",
       " 18,\n",
       " 2,\n",
       " 5,\n",
       " 62,\n",
       " 386,\n",
       " 12,\n",
       " 8,\n",
       " 316,\n",
       " 8,\n",
       " 106,\n",
       " 5,\n",
       " 4,\n",
       " 2223,\n",
       " 5244,\n",
       " 16,\n",
       " 480,\n",
       " 66,\n",
       " 3785,\n",
       " 33,\n",
       " 4,\n",
       " 130,\n",
       " 12,\n",
       " 16,\n",
       " 38,\n",
       " 619,\n",
       " 5,\n",
       " 25,\n",
       " 124,\n",
       " 51,\n",
       " 36,\n",
       " 135,\n",
       " 48,\n",
       " 25,\n",
       " 1415,\n",
       " 33,\n",
       " 6,\n",
       " 22,\n",
       " 12,\n",
       " 215,\n",
       " 28,\n",
       " 77,\n",
       " 52,\n",
       " 5,\n",
       " 14,\n",
       " 407,\n",
       " 16,\n",
       " 82,\n",
       " 2,\n",
       " 8,\n",
       " 4,\n",
       " 107,\n",
       " 117,\n",
       " 5952,\n",
       " 15,\n",
       " 256,\n",
       " 4,\n",
       " 2,\n",
       " 7,\n",
       " 3766,\n",
       " 5,\n",
       " 723,\n",
       " 36,\n",
       " 71,\n",
       " 43,\n",
       " 530,\n",
       " 476,\n",
       " 26,\n",
       " 400,\n",
       " 317,\n",
       " 46,\n",
       " 7,\n",
       " 4,\n",
       " 2,\n",
       " 1029,\n",
       " 13,\n",
       " 104,\n",
       " 88,\n",
       " 4,\n",
       " 381,\n",
       " 15,\n",
       " 297,\n",
       " 98,\n",
       " 32,\n",
       " 2071,\n",
       " 56,\n",
       " 26,\n",
       " 141,\n",
       " 6,\n",
       " 194,\n",
       " 7486,\n",
       " 18,\n",
       " 4,\n",
       " 226,\n",
       " 22,\n",
       " 21,\n",
       " 134,\n",
       " 476,\n",
       " 26,\n",
       " 480,\n",
       " 5,\n",
       " 144,\n",
       " 30,\n",
       " 5535,\n",
       " 18,\n",
       " 51,\n",
       " 36,\n",
       " 28,\n",
       " 224,\n",
       " 92,\n",
       " 25,\n",
       " 104,\n",
       " 4,\n",
       " 226,\n",
       " 65,\n",
       " 16,\n",
       " 38,\n",
       " 1334,\n",
       " 88,\n",
       " 12,\n",
       " 16,\n",
       " 283,\n",
       " 5,\n",
       " 16,\n",
       " 4472,\n",
       " 113,\n",
       " 103,\n",
       " 32,\n",
       " 15,\n",
       " 16,\n",
       " 5345,\n",
       " 19,\n",
       " 178,\n",
       " 32]"
      ]
     },
     "execution_count": 99,
     "metadata": {},
     "output_type": "execute_result"
    }
   ],
   "source": [
    "train_data[0]"
   ]
  },
  {
   "cell_type": "code",
   "execution_count": 56,
   "metadata": {},
   "outputs": [
    {
     "data": {
      "text/plain": [
       "1"
      ]
     },
     "execution_count": 56,
     "metadata": {},
     "output_type": "execute_result"
    }
   ],
   "source": [
    "train_labels[0]"
   ]
  },
  {
   "cell_type": "code",
   "execution_count": 57,
   "metadata": {},
   "outputs": [
    {
     "data": {
      "text/plain": [
       "9999"
      ]
     },
     "execution_count": 57,
     "metadata": {},
     "output_type": "execute_result"
    }
   ],
   "source": [
    "max([max(sequence) for sequence in train_data])"
   ]
  },
  {
   "cell_type": "markdown",
   "metadata": {},
   "source": [
    "- Since we are only taking in the top 10,000 words, the word index cannot be greater than 10,000.   \n"
   ]
  },
  {
   "cell_type": "markdown",
   "metadata": {},
   "source": [
    "## Preparing the Data"
   ]
  },
  {
   "cell_type": "markdown",
   "metadata": {},
   "source": [
    "- A neural network cannot be given a list of integers. The lists have to be turned into tensors. To do that, we can one-hot encode the lists to turn them into vectors of 0's and 1's which will then allow us to use a Dense layer on the network which is able to handle floating point vector data. "
   ]
  },
  {
   "cell_type": "code",
   "execution_count": 58,
   "metadata": {},
   "outputs": [],
   "source": [
    "import numpy as np\n",
    "\n",
    "def vectorize_sequences(sequences, dimension = 10000):\n",
    "    results = np.zeros( (len(sequences), dimension) )\n",
    "    for i, sequence in enumerate(sequences):\n",
    "        results[i, sequence] = 1.\n",
    "    return results\n",
    "\n",
    "x_train = vectorize_sequences(train_data)\n",
    "x_test = vectorize_sequences(test_data)\n",
    "\n",
    "y_train = np.asarray(train_labels).astype('float32')\n",
    "y_test = np.asarray(test_labels).astype('float32')"
   ]
  },
  {
   "cell_type": "code",
   "execution_count": 80,
   "metadata": {},
   "outputs": [
    {
     "data": {
      "text/plain": [
       "array([0., 1., 1., ..., 0., 0., 0.])"
      ]
     },
     "execution_count": 80,
     "metadata": {},
     "output_type": "execute_result"
    }
   ],
   "source": [
    "x_train[0]"
   ]
  },
  {
   "cell_type": "markdown",
   "metadata": {},
   "source": [
    "- From the output above, you can see what the one-hot encoding has done to the list. "
   ]
  },
  {
   "cell_type": "markdown",
   "metadata": {},
   "source": [
    "## Building the Network"
   ]
  },
  {
   "cell_type": "markdown",
   "metadata": {},
   "source": [
    "- Vectors are the input data and the labels are scalar. Due to this, we will use network that has a stack of fully connected Dense layers with relu activations. Each of the dense layers takes in a number of hidden units which is a dimension as pertaining to the representation space of that layer. The more hidden units you have, the more complex representations can be learned by the network. This does come with the downside of making your network more expensive computationally as well as leading the network to learn patterns that are not needed or wanted. I am going to use the relu activation fucntion for the intermediate layers and a sigmoid activation function for the last one as we want the output to be a probability which will show us what the chances are for the review to be positive. We use the relu activation function because if we did not, our layers would only be able to learn linear transformations of the data that is inputed. Without this activation, the hypothesis space will be too restricted. To actually benefit from multiple layers and deep representations leading to a healthy and sufficient hypothesis space, we need an activation function which in this case is relu. "
   ]
  },
  {
   "cell_type": "code",
   "execution_count": 46,
   "metadata": {},
   "outputs": [],
   "source": [
    "from keras import models\n",
    "from keras import layers\n",
    "\n",
    "model = models.Sequential()\n",
    "model.add(layers.Dense(16, activation = 'relu', input_shape = (10000,)))\n",
    "model.add(layers.Dense(16, activation = 'relu'))\n",
    "model.add(layers.Dense(1, activation = 'sigmoid'))\n",
    "\n",
    "\n"
   ]
  },
  {
   "cell_type": "markdown",
   "metadata": {},
   "source": [
    "##  Optimizer\n"
   ]
  },
  {
   "cell_type": "code",
   "execution_count": 61,
   "metadata": {},
   "outputs": [],
   "source": [
    "from keras import optimizers\n",
    "model.compile(optimizer = optimizers.RMSprop(lr = 0.001),\n",
    "              loss = 'binary_crossentropy',\n",
    "              metrics = ['accuracy'])\n",
    "\n",
    "\n",
    "\n"
   ]
  },
  {
   "cell_type": "markdown",
   "metadata": {},
   "source": [
    "- Here,  binary_crossentropy loss is being used becuase crossentropy is considered the most fitting choice when dealing with models with outputs that are probability. "
   ]
  },
  {
   "cell_type": "markdown",
   "metadata": {},
   "source": [
    "## Losses and Metrics"
   ]
  },
  {
   "cell_type": "code",
   "execution_count": 60,
   "metadata": {},
   "outputs": [],
   "source": [
    "from keras import losses\n",
    "from keras import metrics\n",
    "\n",
    "model.compile(optimizer = optimizers.RMSprop(lr = 0.001),\n",
    "              loss = losses.binary_crossentropy,\n",
    "              metrics = [metrics.binary_accuracy])\n",
    "\n",
    "\n"
   ]
  },
  {
   "cell_type": "markdown",
   "metadata": {},
   "source": [
    "## Validation Set "
   ]
  },
  {
   "cell_type": "code",
   "execution_count": 59,
   "metadata": {},
   "outputs": [],
   "source": [
    "x_val = x_train[:10000]\n",
    "partial_x_train = x_train[10000:]\n",
    "y_val = y_train[:10000]\n",
    "partial_y_train = y_train[10000:]\n",
    "\n"
   ]
  },
  {
   "cell_type": "markdown",
   "metadata": {},
   "source": [
    "- Here a validation set is being created by keeping aside 10,000 samples from the training data so we can see how accurate the model is. "
   ]
  },
  {
   "cell_type": "markdown",
   "metadata": {},
   "source": [
    "## Training the Model"
   ]
  },
  {
   "cell_type": "markdown",
   "metadata": {},
   "source": [
    "- Here 20 epochs are run with a batch size of 512. We can look over this progress by fitting it to our validation set."
   ]
  },
  {
   "cell_type": "code",
   "execution_count": 62,
   "metadata": {},
   "outputs": [
    {
     "name": "stdout",
     "output_type": "stream",
     "text": [
      "Train on 15000 samples, validate on 10000 samples\n",
      "Epoch 1/20\n",
      "15000/15000 [==============================] - 13s 860us/step - loss: 0.5144 - acc: 0.7779 - val_loss: 0.3898 - val_acc: 0.8571\n",
      "Epoch 2/20\n",
      "15000/15000 [==============================] - 10s 660us/step - loss: 0.2989 - acc: 0.9004 - val_loss: 0.3016 - val_acc: 0.8862\n",
      "Epoch 3/20\n",
      "15000/15000 [==============================] - 9s 621us/step - loss: 0.2159 - acc: 0.9294 - val_loss: 0.2769 - val_acc: 0.8914\n",
      "Epoch 4/20\n",
      "15000/15000 [==============================] - 9s 613us/step - loss: 0.1720 - acc: 0.9436 - val_loss: 0.2763 - val_acc: 0.8904\n",
      "Epoch 5/20\n",
      "15000/15000 [==============================] - 10s 666us/step - loss: 0.1374 - acc: 0.9556 - val_loss: 0.2819 - val_acc: 0.8890\n",
      "Epoch 6/20\n",
      "15000/15000 [==============================] - 9s 571us/step - loss: 0.1164 - acc: 0.9625 - val_loss: 0.2980 - val_acc: 0.8869\n",
      "Epoch 7/20\n",
      "15000/15000 [==============================] - 10s 651us/step - loss: 0.0967 - acc: 0.9716 - val_loss: 0.3172 - val_acc: 0.8824\n",
      "Epoch 8/20\n",
      "15000/15000 [==============================] - 8s 522us/step - loss: 0.0807 - acc: 0.9771 - val_loss: 0.3389 - val_acc: 0.8815\n",
      "Epoch 9/20\n",
      "15000/15000 [==============================] - 8s 504us/step - loss: 0.0678 - acc: 0.9819 - val_loss: 0.3854 - val_acc: 0.8720\n",
      "Epoch 10/20\n",
      "15000/15000 [==============================] - 10s 651us/step - loss: 0.0565 - acc: 0.9848 - val_loss: 0.4074 - val_acc: 0.8720\n",
      "Epoch 11/20\n",
      "15000/15000 [==============================] - 9s 598us/step - loss: 0.0453 - acc: 0.9893 - val_loss: 0.4186 - val_acc: 0.8738\n",
      "Epoch 12/20\n",
      "15000/15000 [==============================] - 9s 588us/step - loss: 0.0390 - acc: 0.9905 - val_loss: 0.4393 - val_acc: 0.8732\n",
      "Epoch 13/20\n",
      "15000/15000 [==============================] - 8s 553us/step - loss: 0.0324 - acc: 0.9927 - val_loss: 0.4643 - val_acc: 0.8736\n",
      "Epoch 14/20\n",
      "15000/15000 [==============================] - 8s 522us/step - loss: 0.0268 - acc: 0.9941 - val_loss: 0.4977 - val_acc: 0.8720\n",
      "Epoch 15/20\n",
      "15000/15000 [==============================] - 8s 557us/step - loss: 0.0209 - acc: 0.9961 - val_loss: 0.5264 - val_acc: 0.8716\n",
      "Epoch 16/20\n",
      "15000/15000 [==============================] - 11s 734us/step - loss: 0.0164 - acc: 0.9975 - val_loss: 0.5629 - val_acc: 0.8699\n",
      "Epoch 17/20\n",
      "15000/15000 [==============================] - 9s 617us/step - loss: 0.0120 - acc: 0.9985 - val_loss: 0.6398 - val_acc: 0.8606\n",
      "Epoch 18/20\n",
      "15000/15000 [==============================] - 8s 518us/step - loss: 0.0111 - acc: 0.9987 - val_loss: 0.6269 - val_acc: 0.8677\n",
      "Epoch 19/20\n",
      "15000/15000 [==============================] - 8s 548us/step - loss: 0.0081 - acc: 0.9993 - val_loss: 0.6685 - val_acc: 0.8641\n",
      "Epoch 20/20\n",
      "15000/15000 [==============================] - 8s 544us/step - loss: 0.0049 - acc: 0.9999 - val_loss: 0.7789 - val_acc: 0.8515\n"
     ]
    }
   ],
   "source": [
    "model.compile(optimizer = 'rmsprop',\n",
    "              loss = 'binary_crossentropy',\n",
    "              metrics = ['acc'])\n",
    "\n",
    "history = model.fit(partial_x_train, \n",
    "                    partial_y_train,\n",
    "                    epochs = 20,\n",
    "                    batch_size = 512,\n",
    "                    validation_data = (x_val, y_val))"
   ]
  },
  {
   "cell_type": "code",
   "execution_count": 63,
   "metadata": {},
   "outputs": [
    {
     "data": {
      "text/plain": [
       "dict_keys(['val_loss', 'val_acc', 'loss', 'acc'])"
      ]
     },
     "execution_count": 63,
     "metadata": {},
     "output_type": "execute_result"
    }
   ],
   "source": [
    "history_dict = history.history\n",
    "history_dict.keys()\n"
   ]
  },
  {
   "cell_type": "code",
   "execution_count": 64,
   "metadata": {},
   "outputs": [
    {
     "data": {
      "text/plain": [
       "[0.5144458062648773,\n",
       " 0.2988875744183858,\n",
       " 0.21591483409404755,\n",
       " 0.171989404241244,\n",
       " 0.13735977687835693,\n",
       " 0.11636448181470235,\n",
       " 0.09672847954034805,\n",
       " 0.08072961075703303,\n",
       " 0.06781387878259024,\n",
       " 0.05653419173558553,\n",
       " 0.045279072181383766,\n",
       " 0.03895650273660819,\n",
       " 0.03239997134109338,\n",
       " 0.02680264262954394,\n",
       " 0.02092416463891665,\n",
       " 0.016395128359397253,\n",
       " 0.012019597154855729,\n",
       " 0.011082635259628297,\n",
       " 0.00806912536919117,\n",
       " 0.004899850409726302]"
      ]
     },
     "execution_count": 64,
     "metadata": {},
     "output_type": "execute_result"
    }
   ],
   "source": [
    "history_dict['loss']"
   ]
  },
  {
   "cell_type": "markdown",
   "metadata": {},
   "source": [
    "## Plot of Training and Validation Loss"
   ]
  },
  {
   "cell_type": "code",
   "execution_count": 73,
   "metadata": {},
   "outputs": [
    {
     "data": {
      "image/png": "[encoded data removed]",
      "text/plain": [
       "<Figure size 432x288 with 1 Axes>"
      ]
     },
     "metadata": {
      "needs_background": "light"
     },
     "output_type": "display_data"
    }
   ],
   "source": [
    "import matplotlib.pyplot as plt\n",
    "\n",
    "history_dict = history.history\n",
    "loss = history_dict['loss']\n",
    "val_loss = history_dict['val_loss']\n",
    "\n",
    "epochs = range(1, len(acc) + 1)\n",
    "\n",
    "blue_dots = 'bo'\n",
    "solid_blue_line = 'b'\n",
    "\n",
    "plt.plot(epochs, loss, blue_dots, label = 'Training loss')\n",
    "plt.plot(epochs, val_loss, solid_blue_line, label = 'Validation loss')\n",
    "plt.title(\"Training and Validation loss\")\n",
    "plt.xlabel('Epochs')\n",
    "plt.ylabel('Loss')\n",
    "plt.legend()\n",
    "\n",
    "plt.show()"
   ]
  },
  {
   "cell_type": "markdown",
   "metadata": {},
   "source": [
    "- The training loss decreases with every epoch as seen above which is a good sign as it shows that our stochastic gradient descent is optimizing. On the other hand, the validation loss is first decreasing but starts to increase from about the third or fourth epoch. This goes to say that even though our model works well for the training set, it may not perform as well on data it has not seen before. What we are seeing here is overfitting. After the third or fourth epoch, we are overoptimizing on the training data which gives us representation that pertains solely to the training data and does not generalize to data other than the one from the training set. One of the ways to avoid overfitting is to stop training the data after three or four epochs which is done later below. "
   ]
  },
  {
   "cell_type": "code",
   "execution_count": 108,
   "metadata": {},
   "outputs": [
    {
     "data": {
      "image/png": "[encoded data removed]",
      "text/plain": [
       "<Figure size 432x288 with 1 Axes>"
      ]
     },
     "metadata": {
      "needs_background": "light"
     },
     "output_type": "display_data"
    }
   ],
   "source": [
    "plt.clf()\n",
    "\n",
    "acc = history_dict['acc']\n",
    "val_acc = history_dict['val_acc']\n",
    "\n",
    "plt.plot(epochs, acc, 'bo', label = 'Training acc')\n",
    "plt.plot(epochs, val_acc, 'b', label = 'Validation acc')\n",
    "plt.title('Training and Validation loss')\n",
    "plt.xlabel('Epochs')\n",
    "plt.ylabel('Accuracy')\n",
    "plt.legend()\n",
    "\n",
    "plt.show()"
   ]
  },
  {
   "cell_type": "markdown",
   "metadata": {},
   "source": [
    "- Here we can see the same thing. The training accuracy is increasing with every epoch but the validation accuracy seem to start decreasing after the third or fourth epoch. "
   ]
  },
  {
   "cell_type": "markdown",
   "metadata": {},
   "source": [
    "## Testing Trained Model on Test Set"
   ]
  },
  {
   "cell_type": "markdown",
   "metadata": {},
   "source": [
    "##### 1.1 Normal example from class/book:"
   ]
  },
  {
   "cell_type": "code",
   "execution_count": 100,
   "metadata": {},
   "outputs": [
    {
     "name": "stdout",
     "output_type": "stream",
     "text": [
      "Epoch 1/4\n",
      "25000/25000 [==============================] - 13s 537us/step - loss: 0.4496 - acc: 0.8165\n",
      "Epoch 2/4\n",
      "25000/25000 [==============================] - 10s 396us/step - loss: 0.2552 - acc: 0.90946\n",
      "Epoch 3/4\n",
      "25000/25000 [==============================] - 10s 394us/step - loss: 0.1969 - acc: 0.9299\n",
      "Epoch 4/4\n",
      "25000/25000 [==============================] - 10s 418us/step - loss: 0.1669 - acc: 0.9410\n",
      "25000/25000 [==============================] - 13s 503us/step\n"
     ]
    },
    {
     "data": {
      "text/plain": [
       "[0.2946075964450836, 0.88328]"
      ]
     },
     "execution_count": 100,
     "metadata": {},
     "output_type": "execute_result"
    }
   ],
   "source": [
    "model = models.Sequential()\n",
    "model.add(layers.Dense(16, activation = 'relu', input_shape = (10000,)))\n",
    "model.add(layers.Dense(16 ,activation = 'relu'))\n",
    "model.add(layers.Dense(1, activation = 'sigmoid'))\n",
    "\n",
    "model.compile(optimizer = 'rmsprop',\n",
    "             loss = 'binary_crossentropy',\n",
    "             metrics = ['accuracy'])\n",
    "model.fit(x_train, y_train, epochs = 4, batch_size = 512)\n",
    "\n",
    "results = model.evaluate(x_test, y_test)\n",
    "\n",
    "results"
   ]
  },
  {
   "cell_type": "code",
   "execution_count": 71,
   "metadata": {},
   "outputs": [
    {
     "data": {
      "text/plain": [
       "array([[0.1381952 ],\n",
       "       [0.99971014],\n",
       "       [0.2812362 ],\n",
       "       ...,\n",
       "       [0.07172955],\n",
       "       [0.04231447],\n",
       "       [0.46861428]], dtype=float32)"
      ]
     },
     "execution_count": 71,
     "metadata": {},
     "output_type": "execute_result"
    }
   ],
   "source": [
    "model.predict(x_test)"
   ]
  },
  {
   "cell_type": "markdown",
   "metadata": {},
   "source": [
    "##### 1.2 Increasing the number of hidden units of layers:"
   ]
  },
  {
   "cell_type": "code",
   "execution_count": 79,
   "metadata": {},
   "outputs": [
    {
     "name": "stdout",
     "output_type": "stream",
     "text": [
      "Epoch 1/4\n",
      "25000/25000 [==============================] - 35s 1ms/step - loss: 0.4179 - acc: 0.8190\n",
      "Epoch 2/4\n",
      "25000/25000 [==============================] - 32s 1ms/step - loss: 0.2364 - acc: 0.9114\n",
      "Epoch 3/4\n",
      "25000/25000 [==============================] - 40s 2ms/step - loss: 0.1853 - acc: 0.9312\n",
      "Epoch 4/4\n",
      "25000/25000 [==============================] - 39s 2ms/step - loss: 0.1453 - acc: 0.9469\n",
      "25000/25000 [==============================] - 37s 1ms/step\n"
     ]
    },
    {
     "data": {
      "text/plain": [
       "[0.36227199007987976, 0.86568]"
      ]
     },
     "execution_count": 79,
     "metadata": {},
     "output_type": "execute_result"
    }
   ],
   "source": [
    "model = models.Sequential()\n",
    "model.add(layers.Dense(64, activation = 'relu', input_shape = (10000,)))\n",
    "model.add(layers.Dense(32 ,activation = 'relu'))\n",
    "model.add(layers.Dense(1, activation = 'sigmoid'))\n",
    "\n",
    "model.compile(optimizer = 'rmsprop',\n",
    "             loss = 'binary_crossentropy',\n",
    "             metrics = ['accuracy'])\n",
    "model.fit(x_train, y_train, epochs = 4, batch_size = 512)\n",
    "\n",
    "results = model.evaluate(x_test, y_test)\n",
    "\n",
    "results"
   ]
  },
  {
   "cell_type": "code",
   "execution_count": 72,
   "metadata": {},
   "outputs": [
    {
     "data": {
      "text/plain": [
       "array([0, 1, 1, ..., 0, 0, 0])"
      ]
     },
     "execution_count": 72,
     "metadata": {},
     "output_type": "execute_result"
    }
   ],
   "source": [
    "test_labels\n"
   ]
  },
  {
   "cell_type": "markdown",
   "metadata": {},
   "source": [
    "##### 1.3 Replacing sigmoid activation fuction with tanh:"
   ]
  },
  {
   "cell_type": "code",
   "execution_count": 83,
   "metadata": {},
   "outputs": [
    {
     "name": "stdout",
     "output_type": "stream",
     "text": [
      "Epoch 1/4\n",
      "25000/25000 [==============================] - 38s 2ms/step - loss: 0.4700 - acc: 0.8044\n",
      "Epoch 2/4\n",
      "25000/25000 [==============================] - 34s 1ms/step - loss: 0.2621 - acc: 0.9092\n",
      "Epoch 3/4\n",
      "25000/25000 [==============================] - 39s 2ms/step - loss: 0.2061 - acc: 0.9233\n",
      "Epoch 4/4\n",
      "25000/25000 [==============================] - 35s 1ms/step - loss: 0.1465 - acc: 0.9404\n",
      "25000/25000 [==============================] - 37s 1ms/step\n"
     ]
    },
    {
     "data": {
      "text/plain": [
       "[0.5275805160856247, 0.81144]"
      ]
     },
     "execution_count": 83,
     "metadata": {},
     "output_type": "execute_result"
    }
   ],
   "source": [
    "model = models.Sequential()\n",
    "model.add(layers.Dense(64, activation = 'relu', input_shape = (10000,)))\n",
    "model.add(layers.Dense(32 ,activation = 'relu'))\n",
    "model.add(layers.Dense(1, activation = 'tanh'))\n",
    "\n",
    "model.compile(optimizer = 'rmsprop',\n",
    "             loss = 'binary_crossentropy',\n",
    "             metrics = ['accuracy'])\n",
    "model.fit(x_train, y_train, epochs = 4, batch_size = 512)\n",
    "\n",
    "results = model.evaluate(x_test, y_test)\n",
    "\n",
    "results"
   ]
  },
  {
   "cell_type": "markdown",
   "metadata": {},
   "source": [
    "##### 1.4 Removing one layer :"
   ]
  },
  {
   "cell_type": "code",
   "execution_count": 110,
   "metadata": {},
   "outputs": [
    {
     "name": "stdout",
     "output_type": "stream",
     "text": [
      "Epoch 1/4\n",
      "25000/25000 [==============================] - ETA: 0s - loss: 0.1411 - acc: 0.824 - 15s 616us/step - loss: 0.1403 - acc: 0.8255\n",
      "Epoch 2/4\n",
      "25000/25000 [==============================] - 11s 451us/step - loss: 0.0791 - acc: 0.9114\n",
      "Epoch 3/4\n",
      "25000/25000 [==============================] - 13s 529us/step - loss: 0.0615 - acc: 0.9307\n",
      "Epoch 4/4\n",
      "25000/25000 [==============================] - 14s 552us/step - loss: 0.0518 - acc: 0.9418\n",
      "25000/25000 [==============================] - 15s 616us/step\n"
     ]
    },
    {
     "data": {
      "text/plain": [
       "[0.08544904789209366, 0.88576]"
      ]
     },
     "execution_count": 110,
     "metadata": {},
     "output_type": "execute_result"
    }
   ],
   "source": [
    "model = models.Sequential()\n",
    "model.add(layers.Dense(16, activation = 'relu', input_shape = (10000,)))\n",
    "model.add(layers.Dense(1 ,activation = 'sigmoid'))\n",
    "\n",
    "\n",
    "model.compile(optimizer = 'rmsprop',\n",
    "             loss = 'mse',\n",
    "             metrics = ['accuracy'])\n",
    "model.fit(x_train, y_train, epochs = 4, batch_size = 512)\n",
    "\n",
    "results = model.evaluate(x_test, y_test)\n",
    "\n",
    "results"
   ]
  },
  {
   "cell_type": "markdown",
   "metadata": {},
   "source": [
    "##### 1.5 Using a tanh activation function instead of relu:"
   ]
  },
  {
   "cell_type": "code",
   "execution_count": 92,
   "metadata": {},
   "outputs": [
    {
     "name": "stdout",
     "output_type": "stream",
     "text": [
      "Epoch 1/4\n",
      "25000/25000 [==============================] - 15s 613us/step - loss: 0.4574 - acc: 0.8327\n",
      "Epoch 2/4\n",
      "25000/25000 [==============================] - 11s 445us/step - loss: 0.2630 - acc: 0.9130\n",
      "Epoch 3/4\n",
      "25000/25000 [==============================] - 10s 414us/step - loss: 0.1911 - acc: 0.9345\n",
      "Epoch 4/4\n",
      "25000/25000 [==============================] - 11s 440us/step - loss: 0.1555 - acc: 0.9460\n",
      "25000/25000 [==============================] - 13s 538us/step\n"
     ]
    },
    {
     "data": {
      "text/plain": [
       "[0.30436842514038087, 0.88272]"
      ]
     },
     "execution_count": 92,
     "metadata": {},
     "output_type": "execute_result"
    }
   ],
   "source": [
    "model = models.Sequential()\n",
    "model.add(layers.Dense(16, activation = 'tanh', input_shape = (10000,)))\n",
    "model.add(layers.Dense(16 ,activation = 'tanh'))\n",
    "model.add(layers.Dense(1, activation = 'sigmoid'))\n",
    "\n",
    "model.compile(optimizer = 'rmsprop',\n",
    "             loss = 'binary_crossentropy',\n",
    "             metrics = ['accuracy'])\n",
    "model.fit(x_train, y_train, epochs = 4, batch_size = 512)\n",
    "\n",
    "results = model.evaluate(x_test, y_test)\n",
    "\n",
    "results"
   ]
  },
  {
   "cell_type": "markdown",
   "metadata": {},
   "source": [
    "##### 1.6 More epochs:"
   ]
  },
  {
   "cell_type": "code",
   "execution_count": 107,
   "metadata": {},
   "outputs": [
    {
     "name": "stdout",
     "output_type": "stream",
     "text": [
      "Epoch 1/9\n",
      "25000/25000 [==============================] - 17s 661us/step - loss: 0.4565 - acc: 0.8199\n",
      "Epoch 2/9\n",
      "25000/25000 [==============================] - 11s 424us/step - loss: 0.2588 - acc: 0.9080\n",
      "Epoch 3/9\n",
      "25000/25000 [==============================] - 10s 397us/step - loss: 0.1980 - acc: 0.9288\n",
      "Epoch 4/9\n",
      "25000/25000 [==============================] - 10s 388us/step - loss: 0.1657 - acc: 0.9425\n",
      "Epoch 5/9\n",
      "25000/25000 [==============================] - 10s 393us/step - loss: 0.1451 - acc: 0.9474\n",
      "Epoch 6/9\n",
      "25000/25000 [==============================] - 10s 397us/step - loss: 0.1237 - acc: 0.9578\n",
      "Epoch 7/9\n",
      "25000/25000 [==============================] - 10s 391us/step - loss: 0.1095 - acc: 0.9620\n",
      "Epoch 8/9\n",
      "25000/25000 [==============================] - 10s 390us/step - loss: 0.0954 - acc: 0.9686\n",
      "Epoch 9/9\n",
      "25000/25000 [==============================] - 10s 391us/step - loss: 0.0858 - acc: 0.9713\n",
      "25000/25000 [==============================] - 13s 526us/step\n"
     ]
    },
    {
     "data": {
      "text/plain": [
       "[0.41756417843341825, 0.86624]"
      ]
     },
     "execution_count": 107,
     "metadata": {},
     "output_type": "execute_result"
    }
   ],
   "source": [
    "model = models.Sequential()\n",
    "model.add(layers.Dense(16, activation = 'relu', input_shape = (10000,)))\n",
    "model.add(layers.Dense(16 ,activation = 'relu'))\n",
    "model.add(layers.Dense(1, activation = 'sigmoid'))\n",
    "\n",
    "model.compile(optimizer = 'rmsprop',\n",
    "             loss = 'binary_crossentropy',\n",
    "             metrics = ['accuracy'])\n",
    "model.fit(x_train, y_train, epochs = 9, batch_size = 512)\n",
    "\n",
    "results = model.evaluate(x_test, y_test)\n",
    "\n",
    "results"
   ]
  },
  {
   "cell_type": "markdown",
   "metadata": {},
   "source": [
    "##### 1.7 Decreasing the number of hidden units of layers:"
   ]
  },
  {
   "cell_type": "code",
   "execution_count": 109,
   "metadata": {},
   "outputs": [
    {
     "name": "stdout",
     "output_type": "stream",
     "text": [
      "Epoch 1/4\n",
      "25000/25000 [==============================] - 9s 349us/step - loss: 0.5879 - acc: 0.6933\n",
      "Epoch 2/4\n",
      "25000/25000 [==============================] - 5s 184us/step - loss: 0.4923 - acc: 0.8391\n",
      "Epoch 3/4\n",
      "25000/25000 [==============================] - 5s 181us/step - loss: 0.4480 - acc: 0.8860\n",
      "Epoch 4/4\n",
      "25000/25000 [==============================] - 4s 178us/step - loss: 0.4170 - acc: 0.9104\n",
      "25000/25000 [==============================] - 8s 314us/step\n"
     ]
    },
    {
     "data": {
      "text/plain": [
       "[0.45832399376869204, 0.87036]"
      ]
     },
     "execution_count": 109,
     "metadata": {},
     "output_type": "execute_result"
    }
   ],
   "source": [
    "model = models.Sequential()\n",
    "model.add(layers.Dense(4, activation = 'relu', input_shape = (10000,)))\n",
    "model.add(layers.Dense(4 ,activation = 'relu'))\n",
    "model.add(layers.Dense(1, activation = 'sigmoid'))\n",
    "\n",
    "model.compile(optimizer = 'rmsprop',\n",
    "             loss = 'binary_crossentropy',\n",
    "             metrics = ['accuracy'])\n",
    "model.fit(x_train, y_train, epochs = 4, batch_size = 512)\n",
    "\n",
    "results = model.evaluate(x_test, y_test)\n",
    "\n",
    "results"
   ]
  },
  {
   "cell_type": "markdown",
   "metadata": {},
   "source": [
    "### Effects of changing different hyper parameters:\n",
    "- 1.1 uses the parameters recommended by the book and comes up with an accuracy of 88%. I then tweaked different hyper parameters in hopes to increase the accuracy and decrease the loss as much as possible. Increasing and decreasing the number of hidden units in a layer (1.2 & 1.7 respectively) did not effect the outcome much as both their accuracies were about 87% but the example with the higher hidden units had a much lower loss than one with lesser hidden units. This is due to the fact that there was an overfitting and increasing hidden units should be done when trying to scale up and trying to overfit which is not what we want in this case. In 1.3, I replaced the sigmoid layer with tanh and that lowered the accuracy to 81% and increased the loss from 0.36 to 0.52. This was expected as it is essential for binary classification problem to end with a dense layer with 1 unit and a sigmoid activation function as the output of the network should be a scalar value between 0 and 1 (probability). In 1.4, I reduced the number of layers by 1 removing the relu layer which caused the accuracy to increase by 1% and brought down the loss by a lot. Since there is overfitting present, one of the ways to prevent it is reducing the network and in this case a layer has been removed thus reducing the network and leading to more accurate results and less loss. In 1.5, I replaced the relu activation functions with the tanh activation function which resulted in almost the same values as 1.1. We should still use relu as its range goes from 0 to infinity and in this case as we are not dealing with negative values so relu is perfect for that. Moreover,  relu is also the mose popular and used activation function. In 1.6, I decided to increase the epochs from 4 to 9 and the accuracy dropped and loss increased compared to 1.1. This was once again expected as overfitting is present and to reduce that, the number of epochs need to be decreased, not increased. \n",
    "\n",
    "\n",
    "\n",
    "\n",
    "\n",
    "\n",
    "\n",
    "\n",
    "\n"
   ]
  },
  {
   "cell_type": "markdown",
   "metadata": {},
   "source": [
    "## Combating Overfitting \n",
    "- Overfitting occurs when the model fits the data too well and learns patterns of that specific data thus not being able to genralize when introduced to new data. There are four ways to reduce this: Getting more data, reducing the capacity of the network, weight regularisation and adding dropout. "
   ]
  },
  {
   "cell_type": "markdown",
   "metadata": {},
   "source": [
    "### 1. Reducing the Network\n",
    "- Decreasing the size of the network is one of the ways to reduce overfitting. The amount of learnable paramters that a model has is the networks capacity. If that is reduced, the model will not be able to learn the mapping as easily which will benefit us in this case. "
   ]
  },
  {
   "cell_type": "code",
   "execution_count": 112,
   "metadata": {},
   "outputs": [],
   "source": [
    "model.add(layers.Dense(16, activation = 'relu', input_shape = (10000, )))\n",
    "model.add(layers.Dense(16, activation = 'relu'))\n",
    "model.add(layers.Dense(1, activation = 'sigmoid'))"
   ]
  },
  {
   "cell_type": "code",
   "execution_count": 122,
   "metadata": {},
   "outputs": [],
   "source": [
    "from tensorflow.keras.datasets import imdb\n",
    "\n",
    "(train_data, train_labels), (test_data, test_labels) = imdb.load_data(num_words=10000)\n",
    "\n",
    "# Vectorise data\n",
    "import numpy as np\n",
    "def vectorize_sequences(sequences, dimension=10000):\n",
    "    results = np.zeros((len(sequences), dimension))\n",
    "    for i, sequence in enumerate(sequences):\n",
    "        results[i, sequence] = 1. \n",
    "    return results\n",
    "\n",
    "x_train = vectorize_sequences(train_data)\n",
    "x_test = vectorize_sequences(test_data)\n",
    "y_train = np.asarray(train_labels).astype('float32')\n",
    "y_test = np.asarray(test_labels).astype('float32')\n",
    "\n",
    "# Split into partial and validation sets\n",
    "x_val = x_train[:10000]\n",
    "partial_x_train = x_train[10000:]\n",
    "y_val = y_train[:10000]\n",
    "partial_y_train = y_train[10000:]"
   ]
  },
  {
   "cell_type": "code",
   "execution_count": 115,
   "metadata": {},
   "outputs": [
    {
     "name": "stdout",
     "output_type": "stream",
     "text": [
      "Train on 15000 samples, validate on 10000 samples\n",
      "Epoch 1/20\n",
      "15000/15000 [==============================] - 16s 1ms/step - loss: 0.5012 - acc: 0.7971 - val_loss: 0.3862 - val_acc: 0.8637\n",
      "Epoch 2/20\n",
      "15000/15000 [==============================] - 11s 757us/step - loss: 0.2996 - acc: 0.9025 - val_loss: 0.3048 - val_acc: 0.8849\n",
      "Epoch 3/20\n",
      "15000/15000 [==============================] - 11s 705us/step - loss: 0.2155 - acc: 0.9283 - val_loss: 0.2778 - val_acc: 0.8913\n",
      "Epoch 4/20\n",
      "15000/15000 [==============================] - 10s 669us/step - loss: 0.1716 - acc: 0.9433 - val_loss: 0.2776 - val_acc: 0.8886\n",
      "Epoch 5/20\n",
      "15000/15000 [==============================] - 9s 592us/step - loss: 0.1386 - acc: 0.9553 - val_loss: 0.2811 - val_acc: 0.8887\n",
      "Epoch 6/20\n",
      "15000/15000 [==============================] - 10s 673us/step - loss: 0.1174 - acc: 0.9621 - val_loss: 0.2996 - val_acc: 0.8858\n",
      "Epoch 7/20\n",
      "15000/15000 [==============================] - 9s 613us/step - loss: 0.0972 - acc: 0.9721 - val_loss: 0.3161 - val_acc: 0.8816\n",
      "Epoch 8/20\n",
      "15000/15000 [==============================] - 8s 557us/step - loss: 0.0819 - acc: 0.9771 - val_loss: 0.3343 - val_acc: 0.8801\n",
      "Epoch 9/20\n",
      "15000/15000 [==============================] - 10s 666us/step - loss: 0.0689 - acc: 0.9814 - val_loss: 0.3880 - val_acc: 0.8689\n",
      "Epoch 10/20\n",
      "15000/15000 [==============================] - 9s 575us/step - loss: 0.0574 - acc: 0.9857 - val_loss: 0.4123 - val_acc: 0.8690\n",
      "Epoch 11/20\n",
      "15000/15000 [==============================] - 8s 567us/step - loss: 0.0463 - acc: 0.9891 - val_loss: 0.4133 - val_acc: 0.8741\n",
      "Epoch 12/20\n",
      "15000/15000 [==============================] - 9s 572us/step - loss: 0.0395 - acc: 0.9909 - val_loss: 0.4300 - val_acc: 0.8713\n",
      "Epoch 13/20\n",
      "15000/15000 [==============================] - 8s 566us/step - loss: 0.0325 - acc: 0.9933 - val_loss: 0.4542 - val_acc: 0.8745\n",
      "Epoch 14/20\n",
      "15000/15000 [==============================] - 12s 780us/step - loss: 0.0265 - acc: 0.9946 - val_loss: 0.4857 - val_acc: 0.8712\n",
      "Epoch 15/20\n",
      "15000/15000 [==============================] - 9s 583us/step - loss: 0.0203 - acc: 0.9968 - val_loss: 0.5156 - val_acc: 0.8710\n",
      "Epoch 16/20\n",
      "15000/15000 [==============================] - 9s 572us/step - loss: 0.0161 - acc: 0.9977 - val_loss: 0.5417 - val_acc: 0.8701\n",
      "Epoch 17/20\n",
      "15000/15000 [==============================] - 10s 690us/step - loss: 0.0130 - acc: 0.9986 - val_loss: 0.5754 - val_acc: 0.8695\n",
      "Epoch 18/20\n",
      "15000/15000 [==============================] - 9s 585us/step - loss: 0.0118 - acc: 0.9983 - val_loss: 0.6051 - val_acc: 0.8674\n",
      "Epoch 19/20\n",
      "15000/15000 [==============================] - 8s 552us/step - loss: 0.0059 - acc: 0.9997 - val_loss: 0.6893 - val_acc: 0.8603\n",
      "Epoch 20/20\n",
      "15000/15000 [==============================] - 10s 657us/step - loss: 0.0060 - acc: 0.9997 - val_loss: 0.7035 - val_acc: 0.8592\n"
     ]
    }
   ],
   "source": [
    "# Model\n",
    "from tensorflow.keras import models\n",
    "from tensorflow.keras import layers\n",
    "model = models.Sequential()\n",
    "model.add(layers.Dense(16, activation='relu', input_shape=(10000,)))\n",
    "model.add(layers.Dense(16, activation='relu'))\n",
    "model.add(layers.Dense(1, activation='sigmoid'))\n",
    "model.compile(optimizer='rmsprop',\n",
    "              loss='binary_crossentropy',\n",
    "              metrics=['accuracy'])\n",
    "\n",
    "# Train model\n",
    "history = model.fit(partial_x_train,\n",
    "                    partial_y_train,\n",
    "                    epochs=20,\n",
    "                    batch_size=512,\n",
    "                    validation_data=(x_val, y_val))"
   ]
  },
  {
   "cell_type": "code",
   "execution_count": 116,
   "metadata": {},
   "outputs": [
    {
     "name": "stdout",
     "output_type": "stream",
     "text": [
      "Train on 15000 samples, validate on 10000 samples\n",
      "Epoch 1/20\n",
      "15000/15000 [==============================] - 6s 399us/step - loss: 0.6195 - acc: 0.6439 - val_loss: 0.5799 - val_acc: 0.6409\n",
      "Epoch 2/20\n",
      "15000/15000 [==============================] - 5s 309us/step - loss: 0.5273 - acc: 0.7817 - val_loss: 0.5251 - val_acc: 0.7878\n",
      "Epoch 3/20\n",
      "15000/15000 [==============================] - 4s 292us/step - loss: 0.4787 - acc: 0.8467 - val_loss: 0.4962 - val_acc: 0.8243\n",
      "Epoch 4/20\n",
      "15000/15000 [==============================] - 4s 263us/step - loss: 0.4440 - acc: 0.8848 - val_loss: 0.4767 - val_acc: 0.8543\n",
      "Epoch 5/20\n",
      "15000/15000 [==============================] - 4s 273us/step - loss: 0.4167 - acc: 0.9112 - val_loss: 0.4752 - val_acc: 0.8294\n",
      "Epoch 6/20\n",
      "15000/15000 [==============================] - 5s 302us/step - loss: 0.3945 - acc: 0.9287 - val_loss: 0.4684 - val_acc: 0.8392\n",
      "Epoch 7/20\n",
      "15000/15000 [==============================] - 4s 295us/step - loss: 0.3749 - acc: 0.9421 - val_loss: 0.4617 - val_acc: 0.8533\n",
      "Epoch 8/20\n",
      "15000/15000 [==============================] - 4s 288us/step - loss: 0.3581 - acc: 0.9525 - val_loss: 0.4482 - val_acc: 0.8713\n",
      "Epoch 9/20\n",
      "15000/15000 [==============================] - 4s 274us/step - loss: 0.3432 - acc: 0.9602 - val_loss: 0.4493 - val_acc: 0.8689\n",
      "Epoch 10/20\n",
      "15000/15000 [==============================] - 4s 291us/step - loss: 0.3283 - acc: 0.9673 - val_loss: 0.4713 - val_acc: 0.8511\n",
      "Epoch 11/20\n",
      "15000/15000 [==============================] - 4s 260us/step - loss: 0.3160 - acc: 0.9718 - val_loss: 0.4513 - val_acc: 0.8711\n",
      "Epoch 12/20\n",
      "15000/15000 [==============================] - 5s 311us/step - loss: 0.3038 - acc: 0.9779 - val_loss: 0.4944 - val_acc: 0.8480\n",
      "Epoch 13/20\n",
      "15000/15000 [==============================] - 4s 276us/step - loss: 0.2923 - acc: 0.9807 - val_loss: 0.5159 - val_acc: 0.8439\n",
      "Epoch 14/20\n",
      "15000/15000 [==============================] - 5s 307us/step - loss: 0.2823 - acc: 0.9841 - val_loss: 0.4759 - val_acc: 0.8631\n",
      "Epoch 15/20\n",
      "15000/15000 [==============================] - 5s 315us/step - loss: 0.2729 - acc: 0.9868 - val_loss: 0.4819 - val_acc: 0.8636\n",
      "Epoch 16/20\n",
      "15000/15000 [==============================] - 4s 294us/step - loss: 0.2641 - acc: 0.9883 - val_loss: 0.4950 - val_acc: 0.8622\n",
      "Epoch 17/20\n",
      "15000/15000 [==============================] - 4s 256us/step - loss: 0.2558 - acc: 0.9899 - val_loss: 0.5337 - val_acc: 0.8538\n",
      "Epoch 18/20\n",
      "15000/15000 [==============================] - 4s 255us/step - loss: 0.2480 - acc: 0.9907 - val_loss: 0.5209 - val_acc: 0.8594\n",
      "Epoch 19/20\n",
      "15000/15000 [==============================] - 5s 308us/step - loss: 0.2408 - acc: 0.9917 - val_loss: 0.5426 - val_acc: 0.8560\n",
      "Epoch 20/20\n",
      "15000/15000 [==============================] - 5s 303us/step - loss: 0.2335 - acc: 0.9926 - val_loss: 0.5897 - val_acc: 0.8499\n"
     ]
    }
   ],
   "source": [
    "# A smaller model\n",
    "smaller_model = models.Sequential()\n",
    "smaller_model.add(layers.Dense(4, activation='relu', input_shape=(10000,)))\n",
    "smaller_model.add(layers.Dense(4, activation='relu'))\n",
    "smaller_model.add(layers.Dense(1, activation='sigmoid'))\n",
    "smaller_model.compile(optimizer='rmsprop',\n",
    "              loss='binary_crossentropy',\n",
    "              metrics=['accuracy'])\n",
    "\n",
    "# Train model\n",
    "smaller_model_history = smaller_model.fit(partial_x_train,\n",
    "                    partial_y_train,\n",
    "                    epochs=20,\n",
    "                    batch_size=512,\n",
    "                    validation_data=(x_val, y_val))"
   ]
  },
  {
   "cell_type": "code",
   "execution_count": 118,
   "metadata": {},
   "outputs": [
    {
     "data": {
      "image/png": "[encoded data removed]",
      "text/plain": [
       "<Figure size 432x288 with 1 Axes>"
      ]
     },
     "metadata": {
      "needs_background": "light"
     },
     "output_type": "display_data"
    }
   ],
   "source": [
    "import matplotlib.pyplot as plt\n",
    "\n",
    "val_loss = history.history['val_loss']\n",
    "smaller_model_val_loss = smaller_model_history.history['val_loss']\n",
    "\n",
    "epochs = range(1, len(val_loss) + 1)\n",
    "\n",
    "plt.plot(epochs, val_loss, 'b', label='16-16-1')\n",
    "plt.plot(epochs, smaller_model_val_loss, 'r', label='4-4-1')\n",
    "plt.xlabel('Epochs')\n",
    "plt.ylabel('Validation loss')\n",
    "plt.legend()\n",
    "\n",
    "plt.show()"
   ]
  },
  {
   "cell_type": "markdown",
   "metadata": {},
   "source": [
    "- As seen from the figure above, the validation loss of the smaller network is flatter than the original and the loss starts to increase on a much later epoch for the smaller network as opposed to the original. Nonetheless, the original model reaches a nuch smaller optimal loss compared to the smaller model as the smaller model does not have enough capacity. \n",
    "\n",
    "- On the other hand, if we had made a bigger network rather than a smaller one and compared it to the original, the opposite would happen. The bigger model would overfit quicker than the original and would increase at a higher rate. The degree of the overfitting of the bigger model would be greater than that of the original. The bigger model would fit the training data due to its huge capacity, but it overfits quicker as it is not able to generalize and learns and follows patterns of the training data too closely. "
   ]
  },
  {
   "cell_type": "markdown",
   "metadata": {},
   "source": [
    "### 2. Weight Regularisation\n",
    "- Another way to reduce overfitting by reducing the wieghts by adding a regulizer."
   ]
  },
  {
   "cell_type": "code",
   "execution_count": 120,
   "metadata": {},
   "outputs": [
    {
     "name": "stdout",
     "output_type": "stream",
     "text": [
      "Train on 15000 samples, validate on 10000 samples\n",
      "Epoch 1/20\n",
      "15000/15000 [==============================] - 15s 1ms/step - loss: 0.5426 - acc: 0.7873 - val_loss: 0.4135 - val_acc: 0.8729\n",
      "Epoch 2/20\n",
      "15000/15000 [==============================] - 10s 672us/step - loss: 0.3499 - acc: 0.9017 - val_loss: 0.3507 - val_acc: 0.8874\n",
      "Epoch 3/20\n",
      "15000/15000 [==============================] - 10s 637us/step - loss: 0.2810 - acc: 0.9235 - val_loss: 0.3395 - val_acc: 0.8845\n",
      "Epoch 4/20\n",
      "15000/15000 [==============================] - 9s 599us/step - loss: 0.2470 - acc: 0.9347 - val_loss: 0.3502 - val_acc: 0.8816\n",
      "Epoch 5/20\n",
      "15000/15000 [==============================] - 9s 608us/step - loss: 0.2271 - acc: 0.9417 - val_loss: 0.3344 - val_acc: 0.8868\n",
      "Epoch 6/20\n",
      "15000/15000 [==============================] - 10s 648us/step - loss: 0.2114 - acc: 0.9496 - val_loss: 0.3556 - val_acc: 0.8799\n",
      "Epoch 7/20\n",
      "15000/15000 [==============================] - 8s 538us/step - loss: 0.2033 - acc: 0.9529 - val_loss: 0.4284 - val_acc: 0.8607\n",
      "Epoch 8/20\n",
      "15000/15000 [==============================] - 9s 575us/step - loss: 0.1948 - acc: 0.9559 - val_loss: 0.3562 - val_acc: 0.8828\n",
      "Epoch 9/20\n",
      "15000/15000 [==============================] - 10s 642us/step - loss: 0.1845 - acc: 0.9610 - val_loss: 0.3683 - val_acc: 0.8777\n",
      "Epoch 10/20\n",
      "15000/15000 [==============================] - 10s 681us/step - loss: 0.1823 - acc: 0.9615 - val_loss: 0.3834 - val_acc: 0.8790\n",
      "Epoch 11/20\n",
      "15000/15000 [==============================] - 14s 920us/step - loss: 0.1748 - acc: 0.9641 - val_loss: 0.3883 - val_acc: 0.8794\n",
      "Epoch 12/20\n",
      "15000/15000 [==============================] - 10s 646us/step - loss: 0.1696 - acc: 0.9656 - val_loss: 0.4959 - val_acc: 0.8494\n",
      "Epoch 13/20\n",
      "15000/15000 [==============================] - 9s 593us/step - loss: 0.1692 - acc: 0.9660 - val_loss: 0.3947 - val_acc: 0.8778\n",
      "Epoch 14/20\n",
      "15000/15000 [==============================] - 9s 613us/step - loss: 0.1645 - acc: 0.9681 - val_loss: 0.4028 - val_acc: 0.8780\n",
      "Epoch 15/20\n",
      "15000/15000 [==============================] - 10s 684us/step - loss: 0.1609 - acc: 0.9694 - val_loss: 0.4099 - val_acc: 0.8767\n",
      "Epoch 16/20\n",
      "15000/15000 [==============================] - 10s 662us/step - loss: 0.1653 - acc: 0.9643 - val_loss: 0.5061 - val_acc: 0.8577\n",
      "Epoch 17/20\n",
      "15000/15000 [==============================] - 8s 549us/step - loss: 0.1517 - acc: 0.9737 - val_loss: 0.4266 - val_acc: 0.8744\n",
      "Epoch 18/20\n",
      "15000/15000 [==============================] - 10s 668us/step - loss: 0.1548 - acc: 0.9719 - val_loss: 0.4303 - val_acc: 0.8728\n",
      "Epoch 19/20\n",
      "15000/15000 [==============================] - 13s 870us/step - loss: 0.1510 - acc: 0.9726 - val_loss: 0.4399 - val_acc: 0.8707\n",
      "Epoch 20/20\n",
      "15000/15000 [==============================] - 10s 675us/step - loss: 0.1505 - acc: 0.9737 - val_loss: 0.4438 - val_acc: 0.8712\n"
     ]
    }
   ],
   "source": [
    "from keras import regularizers\n",
    "l2_model = models.Sequential()\n",
    "l2_model.add(layers.Dense(16, \n",
    "                          kernel_regularizer = regularizers.l2(0.001), \n",
    "                          activation='relu', \n",
    "                          input_shape=(10000,)))\n",
    "l2_model.add(layers.Dense(16, \n",
    "                       kernel_regularizer = regularizers.l2(0.001),\n",
    "                       activation='relu'))\n",
    "l2_model.add(layers.Dense(1, activation='sigmoid'))\n",
    "l2_model.compile(optimizer='rmsprop',\n",
    "              loss='binary_crossentropy',\n",
    "              metrics=['accuracy'])\n",
    "\n",
    "l2_history = l2_model.fit(partial_x_train,\n",
    "                    partial_y_train,\n",
    "                    epochs=20,\n",
    "                    batch_size=512,\n",
    "                    validation_data=(x_val, y_val))"
   ]
  },
  {
   "cell_type": "code",
   "execution_count": 121,
   "metadata": {},
   "outputs": [
    {
     "data": {
      "image/png": "[encoded data removed]",
      "text/plain": [
       "<Figure size 432x288 with 1 Axes>"
      ]
     },
     "metadata": {
      "needs_background": "light"
     },
     "output_type": "display_data"
    }
   ],
   "source": [
    "val_loss = history.history['val_loss']\n",
    "l2_val_loss = l2_history.history['val_loss']\n",
    "\n",
    "epochs = range(1, len(val_loss) + 1)\n",
    "\n",
    "plt.plot(epochs, val_loss, 'b', label='no reg.')\n",
    "plt.plot(epochs, l2_val_loss, 'r', label='L2 reg.')\n",
    "plt.xlabel('Epochs')\n",
    "plt.ylabel('Validation loss')\n",
    "plt.legend()\n",
    "\n",
    "plt.show()"
   ]
  },
  {
   "cell_type": "markdown",
   "metadata": {},
   "source": [
    "- As seen above, the L2-reg. model is more resistant to overfitting as opposed to the original even with the same number of parameters. "
   ]
  },
  {
   "cell_type": "markdown",
   "metadata": {},
   "source": [
    "## Conclusion:\n",
    "- Before creating the network, the data must be processed to tensorial form in order to put it in the neural network. A bunch of Dense layers along with the relu activation function can then be used to solve many problems, which in this case was to find out whether a movie review was good or bad. This is a binary classification problem which means that the model must end with a Dense layer utilizing the sigmoid activation function with one unit as the output we are looking for is a  probability between 0 and 1. Due to this scalar sigmoid output, we used binary_crossentropy as our loss function. As the model gets better at its training data, they start to learn pattern specific to that data and when used on a new test data, the results start to turn out not too accurate. That is why it is essential to monitor results of your model outside of just your training data set as that is not an accurate representation of the effectiveness of your model. To reduce overfitting, I used two different methods: reducing the network and weight regularisation and they both helped give more accurate results than the original model. The reduction of the network can also be seen in the changing of the hyper parameters above in model 1.4 where I removed a whole layer as opposed to the original which gave the highest accuracy: 89% and the lowest loss: .09.  "
   ]
  },
  {
   "cell_type": "code",
   "execution_count": null,
   "metadata": {},
   "outputs": [],
   "source": []
  }
 ],
 "metadata": {
  "kernelspec": {
   "display_name": "Python 3",
   "language": "python",
   "name": "python3"
  },
  "language_info": {
   "codemirror_mode": {
    "name": "ipython",
    "version": 3
   },
   "file_extension": ".py",
   "mimetype": "text/x-python",
   "name": "python",
   "nbconvert_exporter": "python",
   "pygments_lexer": "ipython3",
   "version": "3.6.6"
  }
 },
 "nbformat": 4,
 "nbformat_minor": 2
}
